{
  "nbformat": 4,
  "nbformat_minor": 0,
  "metadata": {
    "colab": {
      "name": "DDTW.ipynb",
      "version": "0.3.2",
      "provenance": [],
      "collapsed_sections": [],
      "include_colab_link": true
    },
    "kernelspec": {
      "name": "python3",
      "display_name": "Python 3"
    },
    "accelerator": "GPU"
  },
  "cells": [
    {
      "cell_type": "markdown",
      "metadata": {
        "id": "view-in-github",
        "colab_type": "text"
      },
      "source": [
        "<a href=\"https://colab.research.google.com/github/Y-Kanan/Time-Series-classification/blob/master/main.ipynb\" target=\"_parent\"><img src=\"https://colab.research.google.com/assets/colab-badge.svg\" alt=\"Open In Colab\"/></a>"
      ]
    },
    {
      "cell_type": "code",
      "metadata": {
        "id": "nFsqJmEeScmb",
        "colab_type": "code",
        "outputId": "a1ee7209-af7c-4cf0-e3b6-965919698e2a",
        "colab": {
          "base_uri": "https://localhost:8080/",
          "height": 219
        }
      },
      "source": [
        "!apt-get install -y -qq software-properties-common python-software-properties module-init-tools\n",
        "!add-apt-repository -y ppa:alessandro-strada/ppa 2>&1 > /dev/null\n",
        "!apt-get update -qq 2>&1 > /dev/null\n",
        "!apt-get -y install -qq google-drive-ocamlfuse fuse\n",
        "from google.colab import auth\n",
        "auth.authenticate_user()\n",
        "from oauth2client.client import GoogleCredentials\n",
        "creds = GoogleCredentials.get_application_default()\n",
        "import getpass\n",
        "!google-drive-ocamlfuse -headless -id={creds.client_id} -secret={creds.client_secret} < /dev/null 2>&1 | grep URL\n",
        "vcode = getpass.getpass()\n",
        "!echo {vcode} | google-drive-ocamlfuse -headless -id={creds.client_id} -secret={creds.client_secret}\n",
        "\n"
      ],
      "execution_count": 0,
      "outputs": [
        {
          "output_type": "stream",
          "text": [
            "E: Package 'python-software-properties' has no installation candidate\n",
            "Selecting previously unselected package google-drive-ocamlfuse.\n",
            "(Reading database ... 130811 files and directories currently installed.)\n",
            "Preparing to unpack .../google-drive-ocamlfuse_0.7.3-0ubuntu3~ubuntu18.04.1_amd64.deb ...\n",
            "Unpacking google-drive-ocamlfuse (0.7.3-0ubuntu3~ubuntu18.04.1) ...\n",
            "Setting up google-drive-ocamlfuse (0.7.3-0ubuntu3~ubuntu18.04.1) ...\n",
            "Processing triggers for man-db (2.8.3-2ubuntu0.1) ...\n",
            "Please, open the following URL in a web browser: https://accounts.google.com/o/oauth2/auth?client_id=32555940559.apps.googleusercontent.com&redirect_uri=urn%3Aietf%3Awg%3Aoauth%3A2.0%3Aoob&scope=https%3A%2F%2Fwww.googleapis.com%2Fauth%2Fdrive&response_type=code&access_type=offline&approval_prompt=force\n",
            "··········\n",
            "Please, open the following URL in a web browser: https://accounts.google.com/o/oauth2/auth?client_id=32555940559.apps.googleusercontent.com&redirect_uri=urn%3Aietf%3Awg%3Aoauth%3A2.0%3Aoob&scope=https%3A%2F%2Fwww.googleapis.com%2Fauth%2Fdrive&response_type=code&access_type=offline&approval_prompt=force\n",
            "Please enter the verification code: Access token retrieved correctly.\n"
          ],
          "name": "stdout"
        }
      ]
    },
    {
      "cell_type": "code",
      "metadata": {
        "id": "HRCdXdZgTa8D",
        "colab_type": "code",
        "colab": {}
      },
      "source": [
        "!mkdir -p drive\n",
        "!google-drive-ocamlfuse drive"
      ],
      "execution_count": 0,
      "outputs": []
    },
    {
      "cell_type": "code",
      "metadata": {
        "id": "UutHIUuNTejC",
        "colab_type": "code",
        "colab": {}
      },
      "source": [
        "# Install the PyDrive wrapper & import libraries.\n",
        "# This only needs to be done once per notebook.\n",
        "!pip install -U -q PyDrive\n",
        "from pydrive.auth import GoogleAuth\n",
        "from pydrive.drive import GoogleDrive\n",
        "from google.colab import auth\n",
        "from oauth2client.client import GoogleCredentials\n",
        "import pandas as pd\n",
        "# Authenticate and create the PyDrive client.\n",
        "# This only needs to be done once per notebook.\n",
        "auth.authenticate_user()\n",
        "gauth = GoogleAuth()\n",
        "gauth.credentials = GoogleCredentials.get_application_default()\n",
        "drive = GoogleDrive(gauth)"
      ],
      "execution_count": 0,
      "outputs": []
    },
    {
      "cell_type": "code",
      "metadata": {
        "id": "ElE-2XbNUMcC",
        "colab_type": "code",
        "outputId": "e496e8a1-9b46-4dbb-e803-5f9590659efe",
        "colab": {
          "base_uri": "https://localhost:8080/",
          "height": 252
        }
      },
      "source": [
        "import matplotlib.pyplot as plt\n",
        "import copy\n",
        "import numpy as np\n",
        "from scipy.spatial.distance import cdist\n",
        "import pandas as pd\n",
        "from collections import Counter\n",
        "from sklearn import preprocessing\n",
        "from sklearn.model_selection import train_test_split\n",
        "from sklearn.metrics import f1_score,accuracy_score,recall_score,classification_report,confusion_matrix\n",
        "\n",
        "import datetime\n",
        "import math\n",
        "\n",
        "\n",
        "\n",
        "# # ( )*96 electric Device\n",
        "# train_downloaded = drive.CreateFile({'id': '1YFpv5dp67wcUuDXhBpf2srFeZs0Jjvsb'})\n",
        "# train_downloaded.GetContentFile('ElectricDevices_TRAIN')\n",
        "# test_downloaded = drive.CreateFile({'id': '1zNfGgi8zlmmAzJdbwv4Vj7u_hI8VgNt_'})\n",
        "# test_downloaded.GetContentFile('ElectricDevices_TEST')\n",
        "\n",
        "# (100,100)*96 ECG\n",
        "train_downloaded = drive.CreateFile({'id': '1KICY5FZGMZTzDTsU0BgXYaO656WekMoi'})\n",
        "train_downloaded.GetContentFile('ECG200_TRAIN.csv')\n",
        "test_downloaded = drive.CreateFile({'id': '1EUIzflcLKmTeeFWkEUk_3AjVZpuDFGZs'})\n",
        "test_downloaded.GetContentFile('ECG200_TEST.csv')\n",
        "\n",
        "# # 105*144 plane\n",
        "# train_downloaded = drive.CreateFile({'id': '1MNstYEkQwv9fB9clNjdtq-uoocK3iNmx'})\n",
        "# train_downloaded.GetContentFile('Plane_TRAIN.csv')\n",
        "# test_downloaded = drive.CreateFile({'id': '1EQPiIAwK44KuuGjqoh7tZHIO87uLAhKl'})\n",
        "# test_downloaded.GetContentFile('Plane_TEST.csv')\n",
        "\n",
        "# # (36,175)*251 Arrowhead\n",
        "# train_downloaded = drive.CreateFile({'id': '1M6mSv-PO2YuP45ZoLC7PAPtwthpf8QYF'})\n",
        "# train_downloaded.GetContentFile('ArrowHead_TRAIN.csv')\n",
        "# test_downloaded = drive.CreateFile({'id': '17oO4YcMGHJlIrbPxWA5K9EN89vc_ns-d'})\n",
        "# test_downloaded.GetContentFile('ArrowHead_TEST.csv')\n",
        "\n",
        "# # (60)*577 car\n",
        "# train_downloaded = drive.CreateFile({'id': '11jomovYRbp9C5xnzbecqyupb_OjoxxbU'})\n",
        "# train_downloaded.GetContentFile('Car_TRAIN.csv')\n",
        "# test_downloaded = drive.CreateFile({'id': '1iBDKLmwI-klQ7LMCXd8MPonx5jIaSnhK'})\n",
        "# test_downloaded.GetContentFile('Car_TEST.csv')\n",
        "\n",
        "# # (24,88)*350 FaceFour_image\n",
        "# train_downloaded = drive.CreateFile({'id': '1OlTFCFqhrRpEbXgcKL389RubpZCKS6te'})\n",
        "# train_downloaded.GetContentFile('FaceFour_TRAIN.csv')\n",
        "# test_downloaded = drive.CreateFile({'id': '1XSPvnbXv6eRq-KzGv8dIMSOG-Ca9r9zC'})\n",
        "# test_downloaded.GetContentFile('FaceFour_TEST.csv')\n",
        "\n",
        "# # (30,30)*470 Beef\n",
        "# train_downloaded = drive.CreateFile({'id': '1ma2Q6ddPg0mbFJqqrcxC4R2Urm92k1pS'})\n",
        "# train_downloaded.GetContentFile('Beef_TRAIN.csv')\n",
        "# test_downloaded = drive.CreateFile({'id': '1HOxyXYYLZ7tV7ETTXpW9kJvSwS7u6PEj'})\n",
        "# test_downloaded.GetContentFile('Beef_TEST.csv')\n",
        "\n",
        "# # ()*720 computer\n",
        "# train_downloaded = drive.CreateFile({'id': '1_pOexnEpZaz-Y2NZaBxvFRw6wdoSZREA'})\n",
        "# train_downloaded.GetContentFile('Computers_TRAIN.csv')\n",
        "# test_downloaded = drive.CreateFile({'id': '1ydITx43z1hZQLzoHheKcgH5Srq4squzR'})\n",
        "# test_downloaded.GetContentFile('Computers_TEST.csv')\n",
        "\n",
        "#-----------------交叉验证----------------------------------------\n",
        "#数据加载\n",
        "data_downloaded = drive.CreateFile({'id': '1ETSMzGo6IzVLw3M0s1lqOrHxGfVd1qLh'})\n",
        "data_downloaded.GetContentFile('ECG200.csv')\n",
        "\n",
        "# 与平常read_csv无异\n",
        "#数据读取\n",
        "ECG_data = pd.read_csv('ECG200.csv',header=None)  \n",
        "X_train,X_test,y_train,y_test=train_test_split(ECG_data.iloc[:,1:],ECG_data.iloc[:,0],test_size=0.2, random_state=None)\n",
        "X_train=preprocessing.scale(X_train,axis=1) #axis=1,以行为单位运算\n",
        "X_test=preprocessing.scale(X_test,axis=1)\n",
        "\n",
        "y_test=y_test.as_matrix().reshape(-1,1)\n",
        "y_train=y_train.as_matrix().reshape(-1,1)\n",
        "\n",
        "\n",
        "\n",
        "\n",
        "#------------------------------------------------------------------\n",
        "\n",
        "\n",
        "\n",
        "\n",
        "\n",
        "# #------------------不加交叉验证-------------------------------------\n",
        "# # 与平常read_csv无异\n",
        "# train_data = pd.read_csv('ECG200_TRAIN.csv',header=None)\n",
        "# test_data = pd.read_csv('ECG200_TEST.csv',header=None)\n",
        "# # train_train=train_data.iloc[71:85]\n",
        "# # test_data=test_data.iloc[50:64]\n",
        "\n",
        "# z_train=preprocessing.scale(train_data.iloc[:,1:],axis=1) #axis=1,以行为单位运算\n",
        "# train_data.iloc[:,1:]=z_train\n",
        "# z_test=preprocessing.scale(test_data.iloc[:,1:],axis=1)\n",
        "# test_data.iloc[:,1:]=z_test\n",
        "# #---------------------------------------------------------------------\n",
        "\n",
        "\n",
        "\n",
        "# 距离矩阵用meshgrid生成\n",
        "def Mydtw(x,y,window=1): #x做列，y做行\n",
        "    if np.ndim(x) == 1:\n",
        "        x = x.reshape(-1, 1)\n",
        "    if np.ndim(y) == 1:\n",
        "        y = y.reshape(-1, 1)\n",
        "    r, c = np.size(x), np.size(y)\n",
        "    len=r\n",
        "    D0 = np.full((r + 1, c + 1),np.inf)\n",
        "    D0[0,0]=0\n",
        "    D1 = D0[1:, 1:]  # view\n",
        "    C = D0.copy()\n",
        "    #   求得D1为原始距离矩阵\n",
        "    i, j = np.array(C.shape) - 2  #从倒数第二个数开始算路径\n",
        "    path = [[i+1,j+1]]\n",
        "    Y,X=np.meshgrid(y,x)\n",
        "    D1=D0[1:,1:]=C[1:,1:]=(np.abs(X-Y))**2\n",
        "    for i in range(r):\n",
        "        for j in range(int(max(i - np.ceil(window * len), 0)), int(min(len , i + np.ceil(window * len)))):\n",
        "            # D1[i, j] = D0[i + 1, j + 1] = C[i + 1, j + 1] = np.square(x[i] - y[j])  # 曼哈顿城市距离\n",
        "            C[i + 1, j + 1] += min(C[i, j], C[i, j + 1], C[i + 1, j])  # 同时求得累计距离矩阵\n",
        "    while (i > 0) or (j > 0):\n",
        "        tb = np.argmin((C[i, j], C[i, j + 1], C[i + 1, j]))\n",
        "        if tb == 0:\n",
        "            path.append([i, j])\n",
        "            i -= 1\n",
        "            j -= 1\n",
        "        elif tb == 1:\n",
        "            path.append([i, j + 1])\n",
        "            i -= 1\n",
        "        else:  # (tb == 2):\n",
        "            path.append([i + 1, j])\n",
        "            j -= 1\n",
        "    path.reverse()\n",
        "    return C[-1,-1],C,path\n",
        "\n",
        "\n",
        "def DDTW(s1,s2,a):\n",
        "    s1_size=np.size(s1)\n",
        "    s2_size=np.size(s2)\n",
        "    x1=np.copy(s1)\n",
        "    x2=np.copy(s2)\n",
        "    for i in range(1, s1_size - 1):\n",
        "        x1[i] = ((s1[i] - s1[i - 1]) + (s1[i + 1] - s1[i - 1]) / 2) / 2\n",
        "    for i in range(1, s2_size - 1):\n",
        "        x2[i] = ((s2[i] - s2[i - 1]) + (s2[i + 1] - s2[i - 1]) / 2) / 2\n",
        "    d1,_,_=Mydtw(s1,s2,window=0.05)\n",
        "    d2,_,_=Mydtw(x1,x2,window=0.05)\n",
        "    dist=a*d1+(1-a)*d2\n",
        "    return dist\n",
        "\n",
        "def WDTW(x,y,window=1): #x做列，y做行\n",
        "    if np.ndim(x) == 1:\n",
        "        x = x.reshape(-1, 1)\n",
        "    if np.ndim(y) == 1:\n",
        "        y = y.reshape(-1, 1)\n",
        "    r, c = np.size(x), np.size(y)\n",
        "    len=r\n",
        "    D0 = np.full((r + 1, c + 1),np.inf)\n",
        "    D0[0,0]=0\n",
        "    D1 = D0[1:, 1:]  # view\n",
        "    C = D0.copy()\n",
        "    #   求得D1为原始距离矩阵\n",
        "    i, j = np.array(C.shape) - 2  #从倒数第二个数开始算路径\n",
        "    path = [[i+1,j+1]]\n",
        "    Y,X=np.meshgrid(y,x)\n",
        "    D1=D0[1:,1:]=C[1:,1:]=(np.abs(X-Y))**2\n",
        "    # -------------惩罚参数设置-----------------\n",
        "    wmax = 1\n",
        "    g = 0.05\n",
        "    m = r + c / 2\n",
        "    w_shape = np.shape(D1)\n",
        "    wa = np.zeros(w_shape)\n",
        "    for i in range(0, w_shape[0]):\n",
        "        for j in range(0, i):\n",
        "            wa[i, j] = wa[j, i] = wmax / (1 + math.exp(-g * (np.abs(i - j) - m / 2)))\n",
        "    D1=D1*wa\n",
        "    for i in range(r):\n",
        "        for j in range(int(max(i - np.ceil(window * len), 0)), int(min(len , i + np.ceil(window * len)))):\n",
        "            # D1[i, j] = D0[i + 1, j + 1] = C[i + 1, j + 1] = np.square(x[i] - y[j])  # 曼哈顿城市距离\n",
        "            C[i + 1, j + 1] += min(C[i, j], C[i, j + 1], C[i + 1, j])  # 同时求得累计距离矩阵\n",
        "    while (i > 0) or (j > 0):\n",
        "        tb = np.argmin((C[i, j], C[i, j + 1], C[i + 1, j]))\n",
        "        if tb == 0:\n",
        "            path.append([i, j])\n",
        "            i -= 1\n",
        "            j -= 1\n",
        "        elif tb == 1:\n",
        "            path.append([i, j + 1])\n",
        "            i -= 1\n",
        "        else:  # (tb == 2):\n",
        "            path.append([i + 1, j])\n",
        "            j -= 1\n",
        "    path.reverse()\n",
        "    return C[-1,-1],C,path\n",
        "\n",
        "def LCSS(A,B):\n",
        "    if np.ndim(A) == 1:\n",
        "        A = A.reshape(-1, 1)\n",
        "    if np.ndim(B) == 1:\n",
        "        B = B.reshape(-1, 1)\n",
        "    c,r = np.size(A),np.size(B)\n",
        "    L = np.zeros((r+1,c+1))\n",
        "    for i in range(1,r+1):\n",
        "        for j in range(1,c+1):\n",
        "            if abs(A[j-1] - B[i-1]) < 1e-3:\n",
        "                L[i,j]=L[i-1,j-1]+1\n",
        "            else:\n",
        "                L[i,j]=max(L[i-1,j],L[i,j-1])\n",
        "                # print(L[i, j])\n",
        "    # print(L)\n",
        "    dist_LCSS=1-L[-1,-1]/((c+r)/2)\n",
        "    return dist_LCSS,L\n",
        "\n",
        "def reduce(x,n):\n",
        "    x_shrinked=[(x[i] + x[1 + i]) / n for i in range(0, len(x) - len(x) % n -n, n)]\n",
        "    x_shrinked=np.array(x_shrinked)\n",
        "    return x_shrinked\n",
        "\n",
        "def MyFastDtw(x,y,n):\n",
        "    if np.ndim(x) == 1:\n",
        "        x = x.reshape(-1, 1)\n",
        "    if np.ndim(y) == 1:\n",
        "        y = y.reshape(-1, 1)\n",
        "    # 二次采样\n",
        "    x_half = reduce(x,n)\n",
        "    y_half = reduce(y,n)\n",
        "    r, c = np.size(x_half), np.size(y_half)\n",
        "    D0 = np.full((r + 1, c + 1),np.inf)\n",
        "    D0[0, 0] = 0\n",
        "    D1 = D0[1:, 1:]\n",
        "    C=D0.copy()\n",
        "    i,j=np.array(C.shape)-2\n",
        "    path = [[i+1,j+1]]\n",
        "    Y,X=np.meshgrid(y_half,x_half)\n",
        "    D1=D0[1:,1:]=C[1:,1:]=(np.abs(X-Y))**2\n",
        "    for i in range(r):\n",
        "        for j in range(c):\n",
        "            # D1[i, j] = D0[i + 1, j + 1] = C[i + 1, j + 1] = np.square(x[i] - y[j])  # 曼哈顿城市距离\n",
        "            C[i + 1, j + 1] += min(C[i, j], C[i, j + 1], C[i + 1, j])  # 同时求得累计距离矩阵\n",
        "    while (i > 0) or (j > 0):\n",
        "        tb = np.argmin((C[i, j],C[i, j + 1], C[i + 1, j]))\n",
        "        if tb == 0:\n",
        "            path.append([i, j])\n",
        "            i -= 1\n",
        "            j -= 1\n",
        "        elif tb == 1:\n",
        "            path.append([i, j + 1])\n",
        "            i -= 1\n",
        "        else:  # (tb == 2):\n",
        "            path.append([i + 1, j])\n",
        "            j -= 1\n",
        "    path.reverse()\n",
        "    return C[-1,-1],path,np.shape(x_half),np.shape(y_half)\n",
        "\n",
        "start=datetime.datetime.now()\n",
        "#-----------------不包含交叉验证-------------------------\n",
        "# size_train=np.shape(z_train)\n",
        "# size_test=np.shape(z_test)\n",
        "size_train=np.shape(X_train)\n",
        "size_test=np.shape(X_test)\n",
        "d=np.zeros((size_test[0],size_train[0]))\n",
        "# 分类结果储存在min矩阵中 索引：最小距离，所对应的序号，分类结果，实际类别\n",
        "result_min=np.full((6,size_test[0]),np.inf)\n",
        "for i in range(size_test[0]):\n",
        "    for j in range(size_train[0]):\n",
        "#         d[i, j]= DDTW(X_test[i], X_train[j],a=0.5) # 具体度量算法 DDTW\n",
        "#         d[i, j],_,_,_=MyFastDtw(X_test[i], X_train[j],n=2)  #二次采样\n",
        "        d[i, j],_= LCSS(X_test[i], X_train[j])   #LCSS\n",
        "#         d[i, j],_,_= WDTW(X_test[i], X_train[j])\n",
        "#         d[i,j],_,_=Mydtw(X_test[i], X_train[j],window=0.05)  #DTW加限制窗口\n",
        "        # d[i,j],_,xh_shape,yh_shape=f.MyFastDtw_v3(z_test[i],z_train[j],wrap=2,n=1,window=0.05)\n",
        "        # print(xh_shape,yh_shape)\n",
        "        if d[i,j]<result_min[0,i]:\n",
        "            result_min[0,i]=d[i,j] #最小距离\n",
        "            result_min[1,i]=j      #编号\n",
        "            result_min[2, i] =y_train[j,0] #分类结果\n",
        "    # print(path)\n",
        "    result_min[3, i] = y_test[i,0]   #实际类别\n",
        "    result_min[4,i] = (result_min[2,i]==result_min[3,i]) #分类是否正确\n",
        "#计算准确性\n",
        "accuracy = np.sum(result_min[4])/size_test[0]\n",
        "print('accuracy: ',accuracy)\n",
        "print(classification_report(result_min[3],result_min[2]))\n",
        "end=datetime.datetime.now()\n",
        "\n",
        "# #----------------画图----------------------------------------------------------\n",
        "# plt.figure(1)\n",
        "# # x=[i for i in range(0,size_test[0])]\n",
        "# y1=result_min[2]\n",
        "# y2=result_min[3]\n",
        "# # ax=plt.subplot(111)\n",
        "# plt.plot(y1,'b',label='predict')\n",
        "# plt.plot(y2,'r',label='real')\n",
        "# plt.title('ECG classification result using DDTW')\n",
        "# plt.xlabel('test number')\n",
        "# plt.ylabel('class label')\n",
        "# # ymajorLocator = plt.plt.MultipleLocator(1.0) #将y轴主刻度标签设置为1.0的倍数\n",
        "\n",
        "# plt.legend(bbox_to_anchor=(1.05, 0.5), loc=3, borderaxespad=0)\n",
        "\n",
        "# plt.show()\n",
        "# #---------------------------画图-----------------------------------------------\n",
        "\n",
        "# d=DDTW(x,y,a=0.5)\n",
        "# print('DDTW 距离为：',d)\n",
        "\n",
        "print('runing time=',end-start)\n"
      ],
      "execution_count": 0,
      "outputs": [
        {
          "output_type": "stream",
          "text": [
            "/usr/local/lib/python3.6/dist-packages/ipykernel_launcher.py:76: FutureWarning: Method .as_matrix will be removed in a future version. Use .values instead.\n",
            "/usr/local/lib/python3.6/dist-packages/ipykernel_launcher.py:77: FutureWarning: Method .as_matrix will be removed in a future version. Use .values instead.\n"
          ],
          "name": "stderr"
        },
        {
          "output_type": "stream",
          "text": [
            "accuracy:  0.675\n",
            "              precision    recall  f1-score   support\n",
            "\n",
            "        -1.0       0.67      0.38      0.48        16\n",
            "         1.0       0.68      0.88      0.76        24\n",
            "\n",
            "   micro avg       0.68      0.68      0.68        40\n",
            "   macro avg       0.67      0.62      0.62        40\n",
            "weighted avg       0.67      0.68      0.65        40\n",
            "\n",
            "runing time= 0:02:47.048179\n"
          ],
          "name": "stdout"
        }
      ]
    },
    {
      "cell_type": "code",
      "metadata": {
        "id": "p55EhHqnivbC",
        "colab_type": "code",
        "outputId": "b02df0e3-8306-4cd6-a8d2-ad87da35e810",
        "colab": {
          "base_uri": "https://localhost:8080/",
          "height": 282
        }
      },
      "source": [
        "!nvidia-smi"
      ],
      "execution_count": 0,
      "outputs": [
        {
          "output_type": "stream",
          "text": [
            "Sun May  5 14:08:06 2019       \n",
            "+-----------------------------------------------------------------------------+\n",
            "| NVIDIA-SMI 418.56       Driver Version: 410.79       CUDA Version: 10.0     |\n",
            "|-------------------------------+----------------------+----------------------+\n",
            "| GPU  Name        Persistence-M| Bus-Id        Disp.A | Volatile Uncorr. ECC |\n",
            "| Fan  Temp  Perf  Pwr:Usage/Cap|         Memory-Usage | GPU-Util  Compute M. |\n",
            "|===============================+======================+======================|\n",
            "|   0  Tesla K80           Off  | 00000000:00:04.0 Off |                    0 |\n",
            "| N/A   65C    P0    71W / 149W |    121MiB / 11441MiB |      0%      Default |\n",
            "+-------------------------------+----------------------+----------------------+\n",
            "                                                                               \n",
            "+-----------------------------------------------------------------------------+\n",
            "| Processes:                                                       GPU Memory |\n",
            "|  GPU       PID   Type   Process name                             Usage      |\n",
            "|=============================================================================|\n",
            "+-----------------------------------------------------------------------------+\n"
          ],
          "name": "stdout"
        }
      ]
    },
    {
      "cell_type": "code",
      "metadata": {
        "id": "PC9NvJqLVD0W",
        "colab_type": "code",
        "outputId": "c1d9d13e-e005-4827-8faa-c7ab2be6fb03",
        "colab": {
          "base_uri": "https://localhost:8080/",
          "height": 34
        }
      },
      "source": [
        "import tensorflow as tf\n",
        "device_name = tf.test.gpu_device_name()\n",
        "if device_name != '/device:GPU:0':\n",
        "    raise SystemError('GPU device not found')\n",
        "print('Found GPU at: {}'.format(device_name))"
      ],
      "execution_count": 0,
      "outputs": [
        {
          "output_type": "stream",
          "text": [
            "Found GPU at: /device:GPU:0\n"
          ],
          "name": "stdout"
        }
      ]
    },
    {
      "cell_type": "code",
      "metadata": {
        "id": "b_yx4xecVDqm",
        "colab_type": "code",
        "colab": {}
      },
      "source": [
        ""
      ],
      "execution_count": 0,
      "outputs": []
    },
    {
      "cell_type": "code",
      "metadata": {
        "id": "XfM1kaP6hKM8",
        "colab_type": "code",
        "outputId": "f7b45706-5f56-4378-d4bd-6c048acad937",
        "colab": {
          "base_uri": "https://localhost:8080/",
          "height": 34
        }
      },
      "source": [
        "import tensorflow as tf\n",
        "tf.test.gpu_device_name()\n",
        "\n",
        "\n"
      ],
      "execution_count": 0,
      "outputs": [
        {
          "output_type": "execute_result",
          "data": {
            "text/plain": [
              "'/device:GPU:0'"
            ]
          },
          "metadata": {
            "tags": []
          },
          "execution_count": 2
        }
      ]
    },
    {
      "cell_type": "code",
      "metadata": {
        "id": "ugVGpjRwhZ0Q",
        "colab_type": "code",
        "outputId": "15f3782f-0fe7-4cc6-e7d6-f1fd2214492d",
        "colab": {
          "base_uri": "https://localhost:8080/",
          "height": 463
        }
      },
      "source": [
        "from tensorflow.python.client import device_lib\n",
        "device_lib.list_local_devices()\n"
      ],
      "execution_count": 0,
      "outputs": [
        {
          "output_type": "execute_result",
          "data": {
            "text/plain": [
              "[name: \"/device:CPU:0\"\n",
              " device_type: \"CPU\"\n",
              " memory_limit: 268435456\n",
              " locality {\n",
              " }\n",
              " incarnation: 12357226886647139136, name: \"/device:XLA_CPU:0\"\n",
              " device_type: \"XLA_CPU\"\n",
              " memory_limit: 17179869184\n",
              " locality {\n",
              " }\n",
              " incarnation: 4051903851678770157\n",
              " physical_device_desc: \"device: XLA_CPU device\", name: \"/device:XLA_GPU:0\"\n",
              " device_type: \"XLA_GPU\"\n",
              " memory_limit: 17179869184\n",
              " locality {\n",
              " }\n",
              " incarnation: 1487562667885916268\n",
              " physical_device_desc: \"device: XLA_GPU device\", name: \"/device:GPU:0\"\n",
              " device_type: \"GPU\"\n",
              " memory_limit: 11276946637\n",
              " locality {\n",
              "   bus_id: 1\n",
              "   links {\n",
              "   }\n",
              " }\n",
              " incarnation: 17520924586042218326\n",
              " physical_device_desc: \"device: 0, name: Tesla K80, pci bus id: 0000:00:04.0, compute capability: 3.7\"]"
            ]
          },
          "metadata": {
            "tags": []
          },
          "execution_count": 3
        }
      ]
    }
  ]
}