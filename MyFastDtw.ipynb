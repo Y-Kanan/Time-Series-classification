{
  "nbformat": 4,
  "nbformat_minor": 0,
  "metadata": {
    "colab": {
      "name": "MyDtw.ipynb",
      "version": "0.3.2",
      "provenance": [],
      "collapsed_sections": [],
      "include_colab_link": true
    },
    "kernelspec": {
      "name": "python3",
      "display_name": "Python 3"
    },
    "accelerator": "GPU"
  },
  "cells": [
    {
      "cell_type": "markdown",
      "metadata": {
        "id": "view-in-github",
        "colab_type": "text"
      },
      "source": [
        "<a href=\"https://colab.research.google.com/github/Y-Kanan/Time-Series-classification/blob/master/MyFastDtw.ipynb\" target=\"_parent\"><img src=\"https://colab.research.google.com/assets/colab-badge.svg\" alt=\"Open In Colab\"/></a>"
      ]
    },
    {
      "metadata": {
        "id": "4bv_vEHzA1cq",
        "colab_type": "code",
        "outputId": "af60b142-b67e-4d07-b753-5fae71e23ba0",
        "colab": {
          "base_uri": "https://localhost:8080/",
          "height": 224
        }
      },
      "cell_type": "code",
      "source": [
        "!apt-get install -y -qq software-properties-common python-software-properties module-init-tools\n",
        "!add-apt-repository -y ppa:alessandro-strada/ppa 2>&1 > /dev/null\n",
        "!apt-get update -qq 2>&1 > /dev/null\n",
        "!apt-get -y install -qq google-drive-ocamlfuse fuse\n",
        "from google.colab import auth\n",
        "auth.authenticate_user()\n",
        "from oauth2client.client import GoogleCredentials\n",
        "creds = GoogleCredentials.get_application_default()\n",
        "import getpass\n",
        "!google-drive-ocamlfuse -headless -id={creds.client_id} -secret={creds.client_secret} < /dev/null 2>&1 | grep URL\n",
        "vcode = getpass.getpass()\n",
        "!echo {vcode} | google-drive-ocamlfuse -headless -id={creds.client_id} -secret={creds.client_secret}\n",
        "\n"
      ],
      "execution_count": 0,
      "outputs": [
        {
          "output_type": "stream",
          "text": [
            "E: Package 'python-software-properties' has no installation candidate\n",
            "Selecting previously unselected package google-drive-ocamlfuse.\n",
            "(Reading database ... 131304 files and directories currently installed.)\n",
            "Preparing to unpack .../google-drive-ocamlfuse_0.7.3-0ubuntu1~ubuntu18.04.1_amd64.deb ...\n",
            "Unpacking google-drive-ocamlfuse (0.7.3-0ubuntu1~ubuntu18.04.1) ...\n",
            "Setting up google-drive-ocamlfuse (0.7.3-0ubuntu1~ubuntu18.04.1) ...\n",
            "Processing triggers for man-db (2.8.3-2ubuntu0.1) ...\n",
            "Please, open the following URL in a web browser: https://accounts.google.com/o/oauth2/auth?client_id=32555940559.apps.googleusercontent.com&redirect_uri=urn%3Aietf%3Awg%3Aoauth%3A2.0%3Aoob&scope=https%3A%2F%2Fwww.googleapis.com%2Fauth%2Fdrive&response_type=code&access_type=offline&approval_prompt=force\n",
            "··········\n",
            "Please, open the following URL in a web browser: https://accounts.google.com/o/oauth2/auth?client_id=32555940559.apps.googleusercontent.com&redirect_uri=urn%3Aietf%3Awg%3Aoauth%3A2.0%3Aoob&scope=https%3A%2F%2Fwww.googleapis.com%2Fauth%2Fdrive&response_type=code&access_type=offline&approval_prompt=force\n",
            "Please enter the verification code: Access token retrieved correctly.\n"
          ],
          "name": "stdout"
        }
      ]
    },
    {
      "metadata": {
        "id": "y5-k6G-jBYsi",
        "colab_type": "code",
        "colab": {}
      },
      "cell_type": "code",
      "source": [
        "!mkdir -p drive\n",
        "!google-drive-ocamlfuse drive"
      ],
      "execution_count": 0,
      "outputs": []
    },
    {
      "metadata": {
        "id": "pUM4iDU-GTqt",
        "colab_type": "code",
        "colab": {}
      },
      "cell_type": "code",
      "source": [
        "# Install the PyDrive wrapper & import libraries.\n",
        "# This only needs to be done once per notebook.\n",
        "!pip install -U -q PyDrive\n",
        "from pydrive.auth import GoogleAuth\n",
        "from pydrive.drive import GoogleDrive\n",
        "from google.colab import auth\n",
        "from oauth2client.client import GoogleCredentials\n",
        "import pandas as pd\n",
        "# Authenticate and create the PyDrive client.\n",
        "# This only needs to be done once per notebook.\n",
        "auth.authenticate_user()\n",
        "gauth = GoogleAuth()\n",
        "gauth.credentials = GoogleCredentials.get_application_default()\n",
        "drive = GoogleDrive(gauth)\n",
        "\n",
        "# Download a file based on its file ID.\n",
        "#\n",
        "# A file ID looks like: laggVyWshwcyP6kEI-y_W3P8D26sz\n",
        "\n",
        "# 读取文件\n",
        "train_downloaded = drive.CreateFile({'id': '1cD9yo7c9bBeTOZaO5hUVegCXROHW84a0'})\n",
        "train_downloaded.GetContentFile('tstrain.csv')\n",
        "test_downloaded = drive.CreateFile({'id': '1Obbe1GkgH3FwhJriOY0LeAzb__HU_sHv'})\n",
        "test_downloaded.GetContentFile('tstest.csv')\n",
        "# 与平常read_csv无异\n",
        "train_data = pd.read_csv('tstrain.csv',names=[i for i in range(97)])\n",
        "test_data = pd.read_csv('tstest.csv',names=[i for i in range(97)])"
      ],
      "execution_count": 0,
      "outputs": []
    },
    {
      "metadata": {
        "id": "QQ-BuWbmHAz4",
        "colab_type": "code",
        "outputId": "68859d30-3fe7-4a03-9138-333d8d46682c",
        "colab": {
          "base_uri": "https://localhost:8080/",
          "height": 847
        }
      },
      "cell_type": "code",
      "source": [
        "#!/usr/bin/env python \n",
        "# -*- coding:utf-8 -*-\n",
        "import numpy as np\n",
        "import pandas as pd\n",
        "import datetime\n",
        "from sklearn import preprocessing\n",
        "from scipy.spatial.distance import euclidean\n",
        "from scipy.spatial.distance import cdist\n",
        "from fastdtw import fastdtw\n",
        "# import dtw\n",
        "from matplotlib import pyplot as plt\n",
        "\n",
        "def Mydtw(x,y): #x做列，y做行\n",
        "    if np.ndim(x) == 1:\n",
        "        x = x.reshape(-1, 1)\n",
        "    if np.ndim(y) == 1:\n",
        "        y = y.reshape(-1, 1)\n",
        "    r, c = np.size(x), np.size(y)\n",
        "    D0 = np.zeros((r + 1, c + 1))\n",
        "    D0[0, 1:] = np.inf\n",
        "    D0[1:, 0] = np.inf\n",
        "    D1 = D0[1:, 1:]  # view\n",
        "    C = D0.copy()\n",
        "    #   求得D1为原始距离矩阵\n",
        "    for i in range(r):\n",
        "        for j in range(c):\n",
        "            D1[i, j]=D0[i+1,j+1]=C[i+1,j+1]= np.abs(x[i]-y[j]) #曼哈顿城市距离\n",
        "            C[i+1,j+1]+=min(C[i,j],C[i,j+1],C[i+1,j])   # 同时求得累计距离矩阵\n",
        "    i, j = np.array(C.shape) - 2  #从倒数第二个数开始算路径\n",
        "    path = [[i+1,j+1]]\n",
        "    while (i > 0) or (j > 0):\n",
        "        tb = np.argmin((C[i, j], C[i, j + 1], C[i + 1, j]))\n",
        "        if tb == 0:\n",
        "            path.append([i, j])\n",
        "            i -= 1\n",
        "            j -= 1\n",
        "        elif tb == 1:\n",
        "            path.append([i, j + 1])\n",
        "            i -= 1\n",
        "        else:  # (tb == 2):\n",
        "            path.append([i + 1, j])\n",
        "            j -= 1\n",
        "    path.reverse()\n",
        "    return C[-1,-1],path\n",
        "\n",
        "  \n",
        "def MyFastDtw(x,y,wrap):\n",
        "    if np.ndim(x) == 1:\n",
        "        x = x.reshape(-1, 1)\n",
        "    if np.ndim(y) == 1:\n",
        "        y = y.reshape(-1, 1)\n",
        "    r, c = np.size(x), np.size(y)\n",
        "    D0 = np.zeros((r + 1, c + 1))\n",
        "    D0[0, 1:] = np.inf\n",
        "    D0[1:, 0] = np.inf\n",
        "    D1 = D0[1:, 1:]\n",
        "    D0[1:, 1:] = cdist(x,y,'cityblock')\n",
        "    C=D0.copy()\n",
        "    for i in range(r):\n",
        "        for j in range(c):\n",
        "            minlist=[D0[i,j]]  #将所在节点周围wrap范围内的距离点存入一个列表中以求最小值\n",
        "            for k in range(1,wrap+1):\n",
        "                minlist+=[D0[min(i+k,r),j],D0[i,min(j+k,c)]]\n",
        "            D1[i,j]+=min(minlist)  #将wrap范围内最小值找出并累加\n",
        "\n",
        "    C[1:,1:]=D1.copy()  #C，D1为累计距离矩阵\n",
        "    i, j = np.array(C.shape) - 2  #从倒数第二个数开始算路径\n",
        "    path = [[i+1,j+1]]\n",
        "    while (i > 0) or (j > 0):\n",
        "        tb = np.argmin((C[i, j],C[i, j + 1], C[i + 1, j]))\n",
        "        if tb == 0:\n",
        "            path.append([i, j])\n",
        "            i -= 1\n",
        "            j -= 1\n",
        "        elif tb == 1:\n",
        "            path.append([i, j + 1])\n",
        "            i -= 1\n",
        "        else:  # (tb == 2):\n",
        "            path.append([i + 1, j])\n",
        "            j -= 1\n",
        "    path.reverse()\n",
        "    return C[-1,-1],path\n",
        "\n",
        "\n",
        "# 程序运行开始时间记录\n",
        "start = datetime.datetime.now()\n",
        "# # 数据文件和当前脚本在不同目录下，所以要写完整路径\n",
        "# train = r\"C:\\Users\\Administrator\\Desktop\\Data\\train14.csv\"\n",
        "# test = r\"C:\\Users\\Administrator\\Desktop\\Data\\test14.csv\"\n",
        "# # 读取训练集和测试集,读取的为dataframeg格式\n",
        "# train_data = pd.read_csv(train,names=[i for i in range(97)])\n",
        "# test_data = pd.read_csv(test,names=[i for i in range(97)])\n",
        "# ----------- 预处理：z-标准化--------------\n",
        "#选取除类别标签以外的数据切片，后均为array格式\n",
        "z_train=preprocessing.scale(train_data.iloc[:,1:],axis=1) #axis=1,以行为单位运算\n",
        "train_data.iloc[:,1:]=z_train\n",
        "z_test=preprocessing.scale(test_data.iloc[:,1:],axis=1)\n",
        "test_data.iloc[:,1:]=z_test\n",
        "\n",
        "size_train=np.shape(z_train)\n",
        "size_test=np.shape(z_test)\n",
        "\n",
        "#d[i,j]为第i个训练集中的序列同第j个测试集中序列的DTW距离\n",
        "d=np.zeros((size_test[0],size_train[0]))\n",
        "# 分类结果储存在min矩阵中6*96 索引：最小距离，所对应的序号，分类结果，实际类别\n",
        "result_min=np.full((6,test_data.shape[0]),np.inf)\n",
        "test_row=test_data.shape[0]\n",
        "train_row=train_data.shape[0]\n",
        "print(test_row)\n",
        "print(train_row)\n",
        "print(z_train[0],'\\n',type(z_train[0]),'\\n',np.ndim(z_train[0]))\n",
        "# # 对测试集到训练集序列进行距离计算\n",
        "#\n",
        "for i in range(test_data.shape[0]):\n",
        "    for j in range(train_data.shape[0]):\n",
        "        d[i,j],_=MyFastDtw(z_test[i],z_train[j],wrap=1)\n",
        "        # d[j,i],_=fastdtw([z_test[print(z_test[0].shape)\n",
        "        # # print(z_train[0].shape)i]],[z_train[j]],radius=14,dist=2)\n",
        "        if d[i,j]<result_min[0,i]:\n",
        "            result_min[0,i]=d[i,j] #最小距离\n",
        "            result_min[1,i]=j      #编号\n",
        "            num=j\n",
        "            result_min[2, i] =train_data.iloc[j, 0] #分类结果\n",
        "    # print(path)\n",
        "    # print(result_min[0,i],'路径为：\\n',fastpath)\n",
        "    # path.append((i,num))\n",
        "    # path.reverse()\n",
        "    # print('最短距离：\\n', d[-1, -1], '路径:\\n', path)\n",
        "    result_min[3, i] = test_data.iloc[i,0]   #实际类别\n",
        "    result_min[4,i] = (result_min[2,i]==result_min[3,i]) #分类是否正确\n",
        "accuracy = np.sum(result_min[4])/size_test[0]\n",
        "print(result_min)\n",
        "print('accuracy: ',accuracy)\n",
        "plt.figure(1)\n",
        "# x=[i for i in range(0,size_test[0])]\n",
        "y1=result_min[2]\n",
        "y2=result_min[3]\n",
        "plt.plot(y1,'b',y2,'r')\n",
        "plt.show()\n",
        "end=datetime.datetime.now()\n",
        "print('running time: ',end-start)\n"
      ],
      "execution_count": 11,
      "outputs": [
        {
          "output_type": "stream",
          "text": [
            "168\n",
            "400\n",
            "[-0.187086   -0.187086   -0.187086   -0.187086   -0.187086   -0.187086\n",
            " -0.187086   -0.187086   -0.187086   -0.187086   -0.187086   -0.187086\n",
            " -0.187086   -0.187086   -0.187086   -0.187086   -0.187086   -0.187086\n",
            " -0.187086   -0.187086   -0.187086   -0.187086   -0.187086   -0.187086\n",
            " -0.187086   -0.187086   -0.187086   -0.187086   -0.187086   -0.187086\n",
            " -0.187086   -0.187086   -0.187086   -0.187086   -0.187086   -0.187086\n",
            " -0.187086   -0.187086   -0.187086   -0.187086   -0.187086   -0.187086\n",
            " -0.187086   -0.187086   -0.187086   -0.187086   -0.187086   -0.187086\n",
            " -0.187086   -0.187086   -0.187086   -0.187086   -0.187086   -0.187086\n",
            " -0.187086   -0.187086   -0.187086   -0.187086   -0.187086   -0.187086\n",
            " -0.187086   -0.187086   -0.187086   -0.187086   -0.187086   -0.187086\n",
            " -0.187086   -0.187086   -0.187086   -0.187086   -0.187086   -0.187086\n",
            " -0.187086   -0.187086   -0.187086   -0.187086   -0.187086   -0.187086\n",
            " -0.187086   -0.187086   -0.1226292   0.17813234  6.92398066  0.19962464\n",
            "  0.19962464  0.13516784  6.02166589  2.92800092 -0.187086   -0.187086\n",
            " -0.187086   -0.187086   -0.187086   -0.187086   -0.187086   -0.187086  ] \n",
            " <class 'numpy.ndarray'> \n",
            " 1\n",
            "[[  7.71669459  10.53240944   5.75581664 ...   3.9630814    3.31359868\n",
            "    1.65340664]\n",
            " [273.         255.         267.         ... 156.         397.\n",
            "  201.        ]\n",
            " [  6.           6.           6.         ...   4.           1.\n",
            "    4.        ]\n",
            " [  6.           6.           6.         ...   6.           6.\n",
            "    6.        ]\n",
            " [  1.           1.           1.         ...   0.           0.\n",
            "    0.        ]\n",
            " [         inf          inf          inf ...          inf          inf\n",
            "           inf]]\n",
            "accuracy:  0.6130952380952381\n"
          ],
          "name": "stdout"
        },
        {
          "output_type": "display_data",
          "data": {
            "image/png": "[encoded data removed]",
            "text/plain": [
              "<Figure size 432x288 with 1 Axes>"
            ]
          },
          "metadata": {
            "tags": []
          }
        },
        {
          "output_type": "stream",
          "text": [
            "running time:  0:21:14.619172\n"
          ],
          "name": "stdout"
        }
      ]
    }
  ]
}